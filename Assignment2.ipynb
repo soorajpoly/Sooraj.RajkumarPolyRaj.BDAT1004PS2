{
 "cells": [
  {
   "cell_type": "markdown",
   "id": "3b722b88",
   "metadata": {},
   "source": [
    "Question 1\n"
   ]
  },
  {
   "cell_type": "code",
   "execution_count": null,
   "id": "5d2441e4",
   "metadata": {},
   "outputs": [],
   "source": [
    "a = 0\n",
    "def b():\n",
    " global a\n",
    " a = c(a)\n",
    "def c(a):\n",
    " return a + 2"
   ]
  },
  {
   "cell_type": "code",
   "execution_count": 12,
   "id": "b8db1174",
   "metadata": {},
   "outputs": [],
   "source": [
    "b()\n",
    "#a is zero at first then a is calculated as c(a) which is a+2. hence a=2"
   ]
  },
  {
   "cell_type": "code",
   "execution_count": 13,
   "id": "f24785ab",
   "metadata": {},
   "outputs": [],
   "source": [
    "b()\n",
    "#a is 2 at first then a is calculated as c(a) which is a+2. hence a=4"
   ]
  },
  {
   "cell_type": "code",
   "execution_count": 14,
   "id": "3464c367",
   "metadata": {},
   "outputs": [],
   "source": [
    "b()\n",
    "#a is 4 at first then a is calculated as c(a) which is a+2. hence a=4"
   ]
  },
  {
   "cell_type": "code",
   "execution_count": 15,
   "id": "3c523330",
   "metadata": {},
   "outputs": [
    {
     "data": {
      "text/plain": [
       "6"
      ]
     },
     "execution_count": 15,
     "metadata": {},
     "output_type": "execute_result"
    }
   ],
   "source": [
    "a"
   ]
  },
  {
   "cell_type": "markdown",
   "id": "09bcdc01",
   "metadata": {},
   "source": [
    "Question 2"
   ]
  },
  {
   "cell_type": "code",
   "execution_count": 7,
   "id": "c15d876c",
   "metadata": {},
   "outputs": [
    {
     "name": "stdout",
     "output_type": "stream",
     "text": [
      "0\n",
      "Sorry File idterm.py is not found.\n"
     ]
    }
   ],
   "source": [
    "def fileLength(filename):\n",
    "    try:\n",
    "        with open(filename, 'r') as content:\n",
    "            \n",
    "            file_content = content.read()\n",
    "            return len(file_content)\n",
    "        \n",
    "    except FileNotFoundError:\n",
    "        return f'Sorry File {filename} is not found.'\n",
    "\n",
    "# Test the function\n",
    "print(fileLength('test.txt'))  # this should return 0 as it is an empty file\n",
    "\n",
    "print(fileLength('idterm.py'))   # this should print 'Sorry File idterm.py is not found.'\n"
   ]
  },
  {
   "cell_type": "markdown",
   "id": "52ebfad3",
   "metadata": {},
   "source": [
    "Question 3"
   ]
  },
  {
   "cell_type": "code",
   "execution_count": 10,
   "id": "b06fd7d7",
   "metadata": {},
   "outputs": [
    {
     "name": "stdout",
     "output_type": "stream",
     "text": [
      "['doll', 'firetruck', 'kitten']\n"
     ]
    }
   ],
   "source": [
    "class Marsupial:\n",
    "    \n",
    "    def __init__(self):\n",
    "        # empty list\n",
    "        self.pouch = []\n",
    "        \n",
    "    def put_in_pouch(self, item):\n",
    "        # adding to list\n",
    "        self.pouch.append(item)\n",
    "        \n",
    "    def pouch_contents(self):\n",
    "        return self.pouch\n",
    "\n",
    "\n",
    "m = Marsupial()\n",
    "m.put_in_pouch('doll')\n",
    "\n",
    "m.put_in_pouch('firetruck')\n",
    "m.put_in_pouch('kitten')\n",
    "\n",
    "print(m.pouch_contents()) \n"
   ]
  },
  {
   "cell_type": "code",
   "execution_count": 33,
   "id": "9000b102",
   "metadata": {},
   "outputs": [
    {
     "name": "stdout",
     "output_type": "stream",
     "text": [
      "I am a Kangaroo located at coordinates (0,0)\n",
      "I am a Kangaroo located at coordinates (3,0)\n"
     ]
    }
   ],
   "source": [
    "class Kangaroo(Marsupial):\n",
    "\n",
    "    def __init__(self, x, y):\n",
    "        # copy the __init__() of parent\n",
    "        super().__init__()\n",
    "        self.x = x\n",
    "        self.y = y\n",
    "\n",
    "    def jump(self, fx, fy):\n",
    "        # increase x and y values based on jump\n",
    "        self.x =self.x+ fx\n",
    "        self.y =self.y+ fy\n",
    "\n",
    "    def __str__(self):\n",
    "        # Return theposition\n",
    "        return f'I am a Kangaroo located at coordinates ({self.x},{self.y})'\n",
    "\n",
    "\n",
    "k = Kangaroo(0,0)\n",
    "print(k) \n",
    "k.put_in_pouch('doll')\n",
    "k.put_in_pouch('firetruck')\n",
    "k.put_in_pouch('kitten')\n",
    "k.jump(1,0)\n",
    "k.jump(1,0)\n",
    "k.jump(1,0)\n",
    "print(k) "
   ]
  },
  {
   "cell_type": "markdown",
   "id": "b7e186ae",
   "metadata": {},
   "source": [
    "Question 4"
   ]
  },
  {
   "cell_type": "code",
   "execution_count": 23,
   "id": "12eca7b7",
   "metadata": {},
   "outputs": [
    {
     "name": "stdout",
     "output_type": "stream",
     "text": [
      "1\n",
      "10\n",
      "5\n",
      "16\n",
      "8\n",
      "4\n",
      "2\n",
      "1\n"
     ]
    }
   ],
   "source": [
    "def collatz(x):\n",
    "    \n",
    "    print(x)\n",
    "    \n",
    "    # should stop once x is 1\n",
    "    if x == 1:\n",
    "        return\n",
    "    # If x is even, divide by 2\n",
    "    elif x % 2 == 0:\n",
    "        collatz(x // 2) #float is not considered\n",
    "    # for odd values apply rule 3x + 1\n",
    "    else:\n",
    "        #the values will go through collatz till it reaches value 1\n",
    "        collatz(3 * x + 1)\n",
    "        \n",
    "\n",
    "\n",
    "collatz(1)\n",
    "\n",
    "collatz(10)\n"
   ]
  },
  {
   "cell_type": "markdown",
   "id": "e6000e68",
   "metadata": {},
   "source": [
    "Question 5"
   ]
  },
  {
   "cell_type": "code",
   "execution_count": 29,
   "id": "db819864",
   "metadata": {},
   "outputs": [
    {
     "name": "stdout",
     "output_type": "stream",
     "text": [
      "0\n",
      "1\n",
      "11\n",
      "1001\n"
     ]
    }
   ],
   "source": [
    "def binaryval(n):\n",
    "    if n == 0:\n",
    "        \n",
    "        return '0'\n",
    "    elif n == 1:\n",
    "        \n",
    "        return '1'\n",
    "    else:\n",
    "        return binaryval(n // 2) + str(n % 2)#recusrion is implemented here\n",
    "\n",
    "# Test cases\n",
    "print(binary(0))  \n",
    "print(binary(1))  \n",
    "print(binary(3)) \n",
    "print(binary(9))  \n"
   ]
  },
  {
   "cell_type": "markdown",
   "id": "c0f61af6",
   "metadata": {},
   "source": [
    "Question 6"
   ]
  },
  {
   "cell_type": "code",
   "execution_count": 44,
   "id": "d92634cc",
   "metadata": {},
   "outputs": [
    {
     "name": "stdout",
     "output_type": "stream",
     "text": [
      "W3C Mission\n",
      " Principles\n"
     ]
    }
   ],
   "source": [
    "from html.parser import HTMLParser\n",
    "\n",
    "class HeadingParser(HTMLParser):\n",
    "\n",
    "\n",
    "    def handle_starttag(self, tag, attributes):\n",
    "        # If we encounter a heading tag then note its level\n",
    "        if tag in ['h1', 'h2', 'h3', 'h4', 'h5', 'h6']:\n",
    "            self.heading_level = int(tag[1])\n",
    "\n",
    "    \n",
    "    def handle_data(self, data):\n",
    "        \n",
    "        # print the data with some indentation\n",
    "        if hasattr(self, 'heading_level'):\n",
    "            indent_spaces = ' ' * (self.heading_level - 1)\n",
    "            print(indent_spaces + data)\n",
    "            #remove the heading level attribute\n",
    "            del self.heading_level\n",
    "\n",
    "\n",
    "with open('w3c.html', 'r') as html_file:\n",
    "    html_content = html_file.read()\n",
    "    parser = HeadingParser()\n",
    "    parser.feed(html_content)\n",
    "\n"
   ]
  },
  {
   "cell_type": "markdown",
   "id": "0e138ed1",
   "metadata": {},
   "source": [
    "Question 8"
   ]
  },
  {
   "cell_type": "markdown",
   "id": "a4563d8c",
   "metadata": {},
   "source": [
    "#since the table name is not given im refer the table name as table\n",
    "select `Temperature (C)` from table;\n",
    "\n",
    "select distinct City from table;\n",
    "\n",
    "select * from table where Country = 'India';\n",
    "\n",
    "select * from table where Season = 'Fall';\n",
    "\n",
    "select City, Country, Season from table where `Rainfall (mm)` between 200 and 400;\n",
    "\n",
    "select City, Country from table where Season = 'Fall' and `Temperature (C)` > 20 order by `Temperature (C)` asc;\n",
    "\n",
    "select sum(`Rainfall (mm)`) as Total_Rainfall from table where City = 'Cairo';\n",
    "\n",
    "select Season, sum(`Rainfall (mm)`) as Total_Rainfall_FOR_Season from table group by Season;\n",
    "\n",
    "\n",
    "\n",
    "\n",
    "\n",
    "\n",
    "\n"
   ]
  },
  {
   "cell_type": "markdown",
   "id": "bc7c65c1",
   "metadata": {},
   "source": [
    "Question 9"
   ]
  },
  {
   "cell_type": "code",
   "execution_count": 43,
   "id": "17bf9e5f",
   "metadata": {},
   "outputs": [
    {
     "name": "stdout",
     "output_type": "stream",
     "text": [
      "a) ['THE', 'QUICK', 'BROWN', 'FOX', 'JUMPS', 'OVER', 'THE', 'LAZY', 'DOG']\n",
      "b) ['the', 'quick', 'brown', 'fox', 'jumps', 'over', 'the', 'lazy', 'dog']\n",
      "c) [3, 5, 5, 3, 5, 4, 3, 4, 3]\n",
      "d) [['THE', 'the', 3], ['QUICK', 'quick', 5], ['BROWN', 'brown', 5], ['FOX', 'fox', 3], ['JUMPS', 'jumps', 5], ['OVER', 'over', 4], ['THE', 'the', 3], ['LAZY', 'lazy', 4], ['DOG', 'dog', 3]]\n",
      "e) ['quick', 'brown', 'jumps', 'over', 'lazy']\n"
     ]
    }
   ],
   "source": [
    "words = ['The', 'quick', 'brown', 'fox', 'jumps', 'over', 'the', 'lazy', 'dog']\n",
    "\n",
    "\n",
    "uppercase = [word.upper() for word in words]\n",
    "\n",
    "\n",
    "lowercase = [word.lower() for word in words]\n",
    "\n",
    "\n",
    "lengths = [len(word) for word in words]\n",
    "\n",
    "# list of lists containing uppercase, lowercase, and length for each word\n",
    "word_info = [[word.upper(), word.lower(), len(word)] for word in words]\n",
    "\n",
    "# words with 4 or more characters\n",
    "long_words = [word for word in words if len(word) >= 4]\n",
    "\n",
    "#print(\"a)\" +\" \"+ uppercase)\n",
    "print(\"a)\", uppercase)\n",
    "print(\"b)\", lowercase)\n",
    "print(\"c)\", lengths)\n",
    "\n",
    "print(\"d)\", word_info)\n",
    "print(\"e)\", long_words)\n"
   ]
  },
  {
   "cell_type": "code",
   "execution_count": null,
   "id": "b7e36c77",
   "metadata": {},
   "outputs": [],
   "source": []
  }
 ],
 "metadata": {
  "kernelspec": {
   "display_name": "Python 3 (ipykernel)",
   "language": "python",
   "name": "python3"
  },
  "language_info": {
   "codemirror_mode": {
    "name": "ipython",
    "version": 3
   },
   "file_extension": ".py",
   "mimetype": "text/x-python",
   "name": "python",
   "nbconvert_exporter": "python",
   "pygments_lexer": "ipython3",
   "version": "3.10.9"
  }
 },
 "nbformat": 4,
 "nbformat_minor": 5
}
